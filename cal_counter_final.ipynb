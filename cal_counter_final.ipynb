{
 "cells": [
  {
   "cell_type": "code",
   "execution_count": 59,
   "metadata": {},
   "outputs": [],
   "source": [
    "import json\n",
    "\n",
    "calories = {\n",
    "   'Hamburger': 600,\n",
    "   'Cheese Burger': 750,\n",
    "   'Veggie Burger': 400,\n",
    "   'Vegan Burger': 350,\n",
    "   'Sweet Potatoes': 230,\n",
    "   'Salad': 15,\n",
    "   'Iced Tea': 70,\n",
    "   'Lemonade': 90,\n",
    "}\n",
    "\n",
    "#creating a json file for calories\n",
    "with open (\"calories_j.json\", \"w\") as file:\n",
    "   json.dump (calories, file)\n"
   ]
  },
  {
   "cell_type": "code",
   "execution_count": 60,
   "metadata": {},
   "outputs": [
    {
     "name": "stdout",
     "output_type": "stream",
     "text": [
      "you had a Hamburger which has 600 calories\n",
      "total calories is 600\n"
     ]
    }
   ],
   "source": [
    "#user input\n",
    "food_input = input (\"What did you eat? Use comma to list the items\")\n",
    "#creates a list of food items\n",
    "user_food_list = food_input.split(\",\")\n",
    "for item in user_food_list:\n",
    "        print (\"you had a \" + item + \" which has \" + str(calories.get(item.strip())) + \" calories\")\n",
    "\n",
    "#a function that takes one variable (list)\n",
    "def food_list (food):\n",
    "    #an empty list of food calories\n",
    "    cal_list = []\n",
    "    #for each food item listed by the user\n",
    "    for item in food:\n",
    "        #.strip() deletes spaces, to match the key in calories dic\n",
    "        if item.strip() in calories:\n",
    "            #pulls the value of the key using .get\n",
    "            cal_list.append(calories.get(item.strip()))\n",
    "\n",
    "    tot_cals = sum(cal_list)\n",
    "    print (\"total calories is \" + str(tot_cals))\n",
    "\n",
    "food_list(user_food_list)"
   ]
  },
  {
   "cell_type": "markdown",
   "metadata": {},
   "source": [
    "Combos + handling errors"
   ]
  },
  {
   "cell_type": "code",
   "execution_count": 21,
   "metadata": {},
   "outputs": [],
   "source": [
    "combos = {\n",
    "    \"Cheesy Combo\" : [\"Cheese Burger\", \"Sweet Potatoes\", \"Lemonade\"],\n",
    "    \"Veggie Combo\" : [\"Veggie Burger\", \"Sweet Potatoes\", \"Iced Tea\"],\n",
    "    \"Vegan Combo\" : [\"Vegan Burger\", \"Salad\", \"Lemonade\"],\n",
    "}"
   ]
  },
  {
   "cell_type": "code",
   "execution_count": 7,
   "metadata": {},
   "outputs": [
    {
     "name": "stdout",
     "output_type": "stream",
     "text": [
      "your total calories are 1685\n"
     ]
    }
   ],
   "source": [
    "#the try-except in this code don't really serve a function\n",
    "#because of the way the code is written with if statements\n",
    "#but i took the time to understand how try-except work\n",
    "\n",
    "user_items = input(\"what did you eat? separate by commas\").split(\",\")\n",
    "\n",
    "def calorie_counter (items):\n",
    "\n",
    "    #empty list of calories\n",
    "    total_calories = 0\n",
    "\n",
    "    for item in items:\n",
    "        item = item.strip() #strips the item to match in dictionary\n",
    "        try:\n",
    "            if item in calories:\n",
    "                #appends to total calories\n",
    "                total_calories += calories[item]\n",
    "\n",
    "            elif item in combos:\n",
    "                #creates a list of items in combo\n",
    "                combo_items = combos[item]\n",
    "                for i in combo_items:\n",
    "                    i = i.strip()\n",
    "                    #adds the calorie value of the items in combo to the total calorie list\n",
    "                    total_calories += calories[i]\n",
    "        except:\n",
    "            print(\"an error occured\")\n",
    "\n",
    "    print(\"your total calories are \" + str(total_calories))\n",
    "\n",
    "calorie_counter(user_items)\n"
   ]
  },
  {
   "cell_type": "code",
   "execution_count": 38,
   "metadata": {},
   "outputs": [
    {
     "name": "stdout",
     "output_type": "stream",
     "text": [
      "your total calories are 1670\n"
     ]
    }
   ],
   "source": [
    "#another take on this using recursive function\n",
    "\n",
    "user_items = input(\"what did you eat? separate by commas\").split(\",\")\n",
    "\n",
    "#this is the recursive function\n",
    "#it will deal with the items within the combo\n",
    "def cal_counter (food):\n",
    "    #this is necessary for if the argument list is empty\n",
    "    if not food:\n",
    "        return 0\n",
    "    \n",
    "    item = food[0] #we take the first item in the list\n",
    "    if item in calories:\n",
    "        #the function returns the calories of the item(which are added to tot_cals \n",
    "        # by the main function) and a command for it to keep going and iterating over the\n",
    "        #rest of the items in the list (recursive logic, like for loop)\n",
    "        return calories[item] + cal_counter(food[1:])\n",
    "\n",
    "def total_cals (food1):\n",
    "    tot_calories = 0\n",
    "    combo_calories = 0\n",
    "    for item in food1:\n",
    "        item = item.strip()\n",
    "        #as seen before, simply adds calorie count\n",
    "        if item in calories:\n",
    "            tot_calories += calories[item]\n",
    "        elif item in combos:\n",
    "            #if the item is in combos dic, we will grab the cal info using the recursive function\n",
    "            combo_calories += cal_counter(combos[item])\n",
    "            tot_calories += combo_calories\n",
    "\n",
    "    print (\"your total calories are \"+ str(tot_calories))\n",
    "\n",
    "total_cals(user_items)"
   ]
  },
  {
   "cell_type": "markdown",
   "metadata": {},
   "source": [
    "More complex data + price counter"
   ]
  },
  {
   "cell_type": "code",
   "execution_count": 47,
   "metadata": {},
   "outputs": [
    {
     "data": {
      "text/plain": [
       "'\\n\\nmeals = [\\n    {\\n        \"id\": \"meal-1\",\\n        \"name\": \"hamburger\",\\n        \"calories\": 600,\\n        \"price\": 5\\n    },\\n    {\\n        \"id\": \"meal-2\",\\n        \"name\": \"cheese burger\",\\n        \"calories\": 750,\\n        \"price\": 7\\n\\t\\t},\\n    {\\n        \"id\": \"meal-3\",\\n        \"name\": \"veggie burger\",\\n        \"calories\": 400,\\n        \"price\": 6\\n\\t\\t},\\n    {\\n        \"id\": \"meal-4\",\\n        \"name\": \"vegan burger\",\\n        \"calories\": 350,\\n        \"price\": 6\\n\\t\\t},\\n    {\\n        \"id\": \"meal-5\",\\n        \"name\": \"sweet potatoes\",\\n        \"calories\": 230,\\n        \"price\": 3\\n\\t\\t},\\n    {\\n        \"id\": \"meal-6\",\\n        \"name\": \"salad\",\\n        \"calories\": 15,\\n        \"price\": 4\\n\\t\\t},\\n    {\\n        \"id\": \"meal-7\",\\n        \"name\": \"iced tea\",\\n        \"calories\": 70,\\n        \"price\": 2\\n\\t\\t},\\n    {\\n        \"id\": \"meal-8\",\\n        \"name\": \"lemonade\",\\n        \"calories\": 90,\\n        \"price\": 2\\n\\t\\t}\\n]\\n\\ncombos = [\\n    {\\n        \"id\": \"combo-1\",\\n        \"name\": \"cheesy combo\",\\n        \"meals\": [\"meal-2\", \"meal-5\", \"meal-8\"],\\n        \"price\": 11,\\n    },\\n    {\\n        \"id\": \"combo-2\",\\n        \"name\": \"veggie combo\",\\n        \"meals\": [\"meal-3\", \"meal-5\", \"meal-7\"],\\n        \"price\": 10,\\n    },\\n    {\\n        \"id\": \"combo-3\",\\n        \"name\": \"vegan combo\",\\n        \"meals\": [\"meal-4\", \"meal-6\", \"meal-8\"],\\n        \"price\": 10,\\n    }\\n]\\n\\n'"
      ]
     },
     "execution_count": 47,
     "metadata": {},
     "output_type": "execute_result"
    }
   ],
   "source": [
    "#replaced this with json\n",
    "\n",
    "'''\n",
    "\n",
    "meals = [\n",
    "    {\n",
    "        \"id\": \"meal-1\",\n",
    "        \"name\": \"hamburger\",\n",
    "        \"calories\": 600,\n",
    "        \"price\": 5\n",
    "    },\n",
    "    {\n",
    "        \"id\": \"meal-2\",\n",
    "        \"name\": \"cheese burger\",\n",
    "        \"calories\": 750,\n",
    "        \"price\": 7\n",
    "\t\t},\n",
    "    {\n",
    "        \"id\": \"meal-3\",\n",
    "        \"name\": \"veggie burger\",\n",
    "        \"calories\": 400,\n",
    "        \"price\": 6\n",
    "\t\t},\n",
    "    {\n",
    "        \"id\": \"meal-4\",\n",
    "        \"name\": \"vegan burger\",\n",
    "        \"calories\": 350,\n",
    "        \"price\": 6\n",
    "\t\t},\n",
    "    {\n",
    "        \"id\": \"meal-5\",\n",
    "        \"name\": \"sweet potatoes\",\n",
    "        \"calories\": 230,\n",
    "        \"price\": 3\n",
    "\t\t},\n",
    "    {\n",
    "        \"id\": \"meal-6\",\n",
    "        \"name\": \"salad\",\n",
    "        \"calories\": 15,\n",
    "        \"price\": 4\n",
    "\t\t},\n",
    "    {\n",
    "        \"id\": \"meal-7\",\n",
    "        \"name\": \"iced tea\",\n",
    "        \"calories\": 70,\n",
    "        \"price\": 2\n",
    "\t\t},\n",
    "    {\n",
    "        \"id\": \"meal-8\",\n",
    "        \"name\": \"lemonade\",\n",
    "        \"calories\": 90,\n",
    "        \"price\": 2\n",
    "\t\t}\n",
    "]\n",
    "\n",
    "combos = [\n",
    "    {\n",
    "        \"id\": \"combo-1\",\n",
    "        \"name\": \"cheesy combo\",\n",
    "        \"meals\": [\"meal-2\", \"meal-5\", \"meal-8\"],\n",
    "        \"price\": 11,\n",
    "    },\n",
    "    {\n",
    "        \"id\": \"combo-2\",\n",
    "        \"name\": \"veggie combo\",\n",
    "        \"meals\": [\"meal-3\", \"meal-5\", \"meal-7\"],\n",
    "        \"price\": 10,\n",
    "    },\n",
    "    {\n",
    "        \"id\": \"combo-3\",\n",
    "        \"name\": \"vegan combo\",\n",
    "        \"meals\": [\"meal-4\", \"meal-6\", \"meal-8\"],\n",
    "        \"price\": 10,\n",
    "    }\n",
    "]\n",
    "\n",
    "'''"
   ]
  },
  {
   "cell_type": "code",
   "execution_count": 54,
   "metadata": {},
   "outputs": [],
   "source": [
    "import json\n",
    "\n",
    "with open(\"data/meals.json\") as file:\n",
    "\tmeals = json.load(file)\n",
    "\n",
    "with open (\"data/combos.json\") as file:\n",
    "\tcombos = json.load(file)\n",
    "\n",
    "#making the list from the json files\n",
    "meal_list = meals.get('meals')\n",
    "combos_list = combos.get('combos')\n",
    "\n"
   ]
  },
  {
   "cell_type": "code",
   "execution_count": 57,
   "metadata": {},
   "outputs": [],
   "source": [
    "#a dic comprehension that makes the item name as the key\n",
    "meals2 = {x[\"name\"]: x for x in meal_list}\n",
    "\n",
    "#this comprehension will become important for calling calorie info from combos list\n",
    "meals3 = {x[\"id\"]: x for x in meal_list}\n",
    "\n",
    "#a dic comprehension that makes combo name as key\n",
    "combos2 = {x[\"name\"]: x for x in combos_list}"
   ]
  },
  {
   "cell_type": "code",
   "execution_count": 61,
   "metadata": {},
   "outputs": [
    {
     "name": "stdout",
     "output_type": "stream",
     "text": [
      "your total cals are 1070\n",
      "your total price is 12\n"
     ]
    }
   ],
   "source": [
    "user_items = input(\"what did you eat? seperate by comma\").split(\",\")\n",
    "\n",
    "def cal_counter (items): \n",
    "    tot_cals = 0\n",
    "    tot_price = 0\n",
    "\n",
    "    for item in items:\n",
    "        item = item.strip()\n",
    "        if item in meals2:     #if the item is a key in the new dic\n",
    "            meal_name = meals2[item]    #creates a variable with the item name\n",
    "            #calls the key in the newly created dictionary and looks for the calorie value\n",
    "            tot_cals += meal_name['calories']\n",
    "            tot_price += meal_name['price']\n",
    "            \n",
    "        elif item in combos2:\n",
    "            combo_name = combos2[item]   #again creates a new variable with combo name\n",
    "            #here we make a list of meal numbers as defined in dic, and later use them\n",
    "            #to call cal info\n",
    "            combo_items = combo_name['meals']\n",
    "\n",
    "            for i in combo_items:\n",
    "                i = i.strip()\n",
    "                #if the meal number is in the comprehension defined by the id\n",
    "                if i in meals3:\n",
    "                    #creates a list of the meal numbers in the combo\n",
    "                    combo_tot = meals3[i]\n",
    "                    #looks for calorie info in the created list and adds it to tot cals\n",
    "                    tot_cals += combo_tot['calories'] \n",
    "                    tot_price += combo_tot['price']\n",
    "        else:\n",
    "            print(\"invalid input\")\n",
    "            return\n",
    "    \n",
    "    if tot_cals > 2000:\n",
    "        raise Exception (\"too many calories\")\n",
    "\n",
    "\n",
    "    print(\"your total cals are \" + str(tot_cals))\n",
    "    print(\"your total price is \" + str(tot_price))\n",
    "\n",
    "            \n",
    "\n",
    "cal_counter (user_items)"
   ]
  }
 ],
 "metadata": {
  "kernelspec": {
   "display_name": "base",
   "language": "python",
   "name": "python3"
  },
  "language_info": {
   "codemirror_mode": {
    "name": "ipython",
    "version": 3
   },
   "file_extension": ".py",
   "mimetype": "text/x-python",
   "name": "python",
   "nbconvert_exporter": "python",
   "pygments_lexer": "ipython3",
   "version": "3.11.4"
  }
 },
 "nbformat": 4,
 "nbformat_minor": 2
}
#cal_counter
